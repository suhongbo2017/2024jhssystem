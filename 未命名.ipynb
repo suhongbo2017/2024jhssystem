{
 "cells": [
  {
   "cell_type": "code",
   "execution_count": 1,
   "id": "a4de3849",
   "metadata": {},
   "outputs": [],
   "source": [
    "import pandas as pd"
   ]
  },
  {
   "cell_type": "code",
   "execution_count": 3,
   "id": "3a2b1f0d",
   "metadata": {},
   "outputs": [],
   "source": [
    "import server_connect"
   ]
  },
  {
   "cell_type": "code",
   "execution_count": null,
   "id": "c4ed1c83",
   "metadata": {},
   "outputs": [],
   "source": []
  }
 ],
 "metadata": {
  "kernelspec": {
   "display_name": "Python 3 (ipykernel)",
   "language": "python",
   "name": "python3"
  },
  "language_info": {
   "codemirror_mode": {
    "name": "ipython",
    "version": 3
   },
   "file_extension": ".py",
   "mimetype": "text/x-python",
   "name": "python",
   "nbconvert_exporter": "python",
   "pygments_lexer": "ipython3",
   "version": "3.11.4"
  }
 },
 "nbformat": 4,
 "nbformat_minor": 5
}
