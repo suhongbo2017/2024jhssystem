{
 "cells": [
  {
   "cell_type": "code",
   "execution_count": 1,
   "id": "c2b97471",
   "metadata": {},
   "outputs": [],
   "source": [
    "import pandas as pd"
   ]
  },
  {
   "cell_type": "markdown",
   "id": "069511c2",
   "metadata": {},
   "source": [
    "### 读取excel原始资料。"
   ]
  },
  {
   "cell_type": "code",
   "execution_count": 3,
   "id": "55f6c858",
   "metadata": {},
   "outputs": [],
   "source": [
    "import write_mysql"
   ]
  },
  {
   "cell_type": "code",
   "execution_count": 5,
   "id": "33a2ebf6",
   "metadata": {},
   "outputs": [],
   "source": [
    "sql_query= \"select * from production_schedule\"\n"
   ]
  },
  {
   "cell_type": "code",
   "execution_count": 7,
   "id": "a031ca58",
   "metadata": {},
   "outputs": [],
   "source": [
    "df= pd.read_sql(sql_query,write_mysql.engine())"
   ]
  },
  {
   "cell_type": "code",
   "execution_count": 12,
   "id": "81a3da5b",
   "metadata": {},
   "outputs": [
    {
     "data": {
      "text/html": [
       "<div>\n",
       "<style scoped>\n",
       "    .dataframe tbody tr th:only-of-type {\n",
       "        vertical-align: middle;\n",
       "    }\n",
       "\n",
       "    .dataframe tbody tr th {\n",
       "        vertical-align: top;\n",
       "    }\n",
       "\n",
       "    .dataframe thead th {\n",
       "        text-align: right;\n",
       "    }\n",
       "</style>\n",
       "<table border=\"1\" class=\"dataframe\">\n",
       "  <thead>\n",
       "    <tr style=\"text-align: right;\">\n",
       "      <th></th>\n",
       "      <th>id</th>\n",
       "      <th>生产日期</th>\n",
       "      <th>班次</th>\n",
       "      <th>重点关注</th>\n",
       "      <th>任务单号</th>\n",
       "      <th>客户</th>\n",
       "      <th>型号</th>\n",
       "      <th>产品名称</th>\n",
       "      <th>宽度</th>\n",
       "      <th>长度</th>\n",
       "      <th>...</th>\n",
       "      <th>速比</th>\n",
       "      <th>气压</th>\n",
       "      <th>一放张力</th>\n",
       "      <th>放牵张力</th>\n",
       "      <th>出牵张力</th>\n",
       "      <th>收卷张力</th>\n",
       "      <th>收卷锥度</th>\n",
       "      <th>烘道张力</th>\n",
       "      <th>生产领班</th>\n",
       "      <th>备注</th>\n",
       "    </tr>\n",
       "  </thead>\n",
       "  <tbody>\n",
       "  </tbody>\n",
       "</table>\n",
       "<p>0 rows × 82 columns</p>\n",
       "</div>"
      ],
      "text/plain": [
       "Empty DataFrame\n",
       "Columns: [id, 生产日期, 班次, 重点关注, 任务单号, 客户, 型号, 产品名称, 宽度, 长度, 涂布辊, 产能, 计划时间, 卷数, 计划米数, 订单交期, 订单数, 物料信息, 实际米数, 报废米数, 异常报废, 报废率, 实际生产时间, 平方数, 实际平方, 原膜批号, 生产批号, 机速, 剥离剂, F02, 7475胶带粘性, 涂布量1, 涂布量2, 涂布量3, 急测, 首件离型力1, 首件离型力2, 首件离型力3, 尾件离型力1, 尾件离型力2, 尾件离型力3, 熟化12H离型力1, 熟化13H离型力2, 熟化14H离型力3, 防静电值1, 防静电值2, 防静电值3, 常温24H离型力1, 常温24H离型力2, 常温24H离型力3, 烘烤70℃离型力1, 烘烤70℃离型力2, 烘烤70℃离型力3, 残率1, 残率2, 残率3, 原膜检查, 电晕值52达因, 电晕处理, 烘箱温度1, 烘箱温度2, 烘箱温度3, 烘箱温度4, 烘箱温度5, 烘箱温度6, 是否掉硅, 涂布问题描述, 正/反放卷, 涂头温度, 涂头湿度%, QC签名, 装刀距离, 速比, 气压, 一放张力, 放牵张力, 出牵张力, 收卷张力, 收卷锥度, 烘道张力, 生产领班, 备注]\n",
       "Index: []\n",
       "\n",
       "[0 rows x 82 columns]"
      ]
     },
     "execution_count": 12,
     "metadata": {},
     "output_type": "execute_result"
    }
   ],
   "source": []
  },
  {
   "cell_type": "markdown",
   "id": "edc2595c",
   "metadata": {},
   "source": [
    "把生产日期设置为index"
   ]
  },
  {
   "cell_type": "code",
   "execution_count": 15,
   "id": "899f0b9b",
   "metadata": {},
   "outputs": [],
   "source": [
    "customer=df.loc[~df['客户'].isna()]\n"
   ]
  },
  {
   "cell_type": "code",
   "execution_count": 17,
   "id": "0334b721",
   "metadata": {},
   "outputs": [
    {
     "data": {
      "text/plain": [
       "Index(['id', '生产日期', '班次', '重点关注', '任务单号', '客户', '型号', '产品名称', '宽度', '长度',\n",
       "       '涂布辊', '产能', '计划时间', '卷数', '计划米数', '订单交期', '订单数', '物料信息', '实际米数',\n",
       "       '报废米数', '异常报废', '报废率', '实际生产时间', '平方数', '实际平方', '原膜批号', '生产批号', '机速',\n",
       "       '剥离剂', 'F02', '7475胶带粘性', '涂布量1', '涂布量2', '涂布量3', '急测', '首件离型力1',\n",
       "       '首件离型力2', '首件离型力3', '尾件离型力1', '尾件离型力2', '尾件离型力3', '熟化12H离型力1',\n",
       "       '熟化13H离型力2', '熟化14H离型力3', '防静电值1', '防静电值2', '防静电值3', '常温24H离型力1',\n",
       "       '常温24H离型力2', '常温24H离型力3', '烘烤70℃离型力1', '烘烤70℃离型力2', '烘烤70℃离型力3', '残率1',\n",
       "       '残率2', '残率3', '原膜检查', '电晕值52达因', '电晕处理', '烘箱温度1', '烘箱温度2', '烘箱温度3',\n",
       "       '烘箱温度4', '烘箱温度5', '烘箱温度6', '是否掉硅', '涂布问题描述', '正/反放卷', '涂头温度', '涂头湿度%',\n",
       "       'QC签名', '装刀距离', '速比', '气压', '一放张力', '放牵张力', '出牵张力', '收卷张力', '收卷锥度',\n",
       "       '烘道张力', '生产领班', '备注'],\n",
       "      dtype='object')"
      ]
     },
     "execution_count": 17,
     "metadata": {},
     "output_type": "execute_result"
    }
   ],
   "source": [
    "customer.columns"
   ]
  },
  {
   "cell_type": "markdown",
   "id": "c983e196",
   "metadata": {},
   "source": [
    "把columns name 进行更名，因为列名中有一些'\\n'下一行符号"
   ]
  },
  {
   "cell_type": "code",
   "execution_count": 22,
   "id": "5dd5cfdf",
   "metadata": {
    "collapsed": true
   },
   "outputs": [
    {
     "data": {
      "text/html": [
       "<div>\n",
       "<style scoped>\n",
       "    .dataframe tbody tr th:only-of-type {\n",
       "        vertical-align: middle;\n",
       "    }\n",
       "\n",
       "    .dataframe tbody tr th {\n",
       "        vertical-align: top;\n",
       "    }\n",
       "\n",
       "    .dataframe thead th {\n",
       "        text-align: right;\n",
       "    }\n",
       "</style>\n",
       "<table border=\"1\" class=\"dataframe\">\n",
       "  <thead>\n",
       "    <tr style=\"text-align: right;\">\n",
       "      <th></th>\n",
       "      <th>实际米数</th>\n",
       "      <th>报废米数</th>\n",
       "    </tr>\n",
       "    <tr>\n",
       "      <th>生产日期</th>\n",
       "      <th></th>\n",
       "      <th></th>\n",
       "    </tr>\n",
       "  </thead>\n",
       "  <tbody>\n",
       "    <tr>\n",
       "      <th>2023-12-01</th>\n",
       "      <td>50030.0</td>\n",
       "      <td>505.0</td>\n",
       "    </tr>\n",
       "    <tr>\n",
       "      <th>2023-12-02</th>\n",
       "      <td>33705.0</td>\n",
       "      <td>545.0</td>\n",
       "    </tr>\n",
       "    <tr>\n",
       "      <th>2023-12-03</th>\n",
       "      <td>20370.0</td>\n",
       "      <td>420.0</td>\n",
       "    </tr>\n",
       "    <tr>\n",
       "      <th>2023-12-04</th>\n",
       "      <td>41340.0</td>\n",
       "      <td>390.0</td>\n",
       "    </tr>\n",
       "    <tr>\n",
       "      <th>2023-12-05</th>\n",
       "      <td>58310.0</td>\n",
       "      <td>85.0</td>\n",
       "    </tr>\n",
       "    <tr>\n",
       "      <th>2023-12-06</th>\n",
       "      <td>45095.0</td>\n",
       "      <td>245.0</td>\n",
       "    </tr>\n",
       "    <tr>\n",
       "      <th>2023-12-07</th>\n",
       "      <td>59985.0</td>\n",
       "      <td>85.0</td>\n",
       "    </tr>\n",
       "    <tr>\n",
       "      <th>2023-12-08</th>\n",
       "      <td>45350.0</td>\n",
       "      <td>220.0</td>\n",
       "    </tr>\n",
       "    <tr>\n",
       "      <th>2023-12-09</th>\n",
       "      <td>29350.0</td>\n",
       "      <td>535.0</td>\n",
       "    </tr>\n",
       "    <tr>\n",
       "      <th>2023-12-10</th>\n",
       "      <td>55680.0</td>\n",
       "      <td>250.0</td>\n",
       "    </tr>\n",
       "    <tr>\n",
       "      <th>2023-12-11</th>\n",
       "      <td>32595.0</td>\n",
       "      <td>385.0</td>\n",
       "    </tr>\n",
       "    <tr>\n",
       "      <th>2023-12-12</th>\n",
       "      <td>32565.0</td>\n",
       "      <td>405.0</td>\n",
       "    </tr>\n",
       "    <tr>\n",
       "      <th>2023-12-13</th>\n",
       "      <td>40090.0</td>\n",
       "      <td>410.0</td>\n",
       "    </tr>\n",
       "    <tr>\n",
       "      <th>2023-12-14</th>\n",
       "      <td>42075.0</td>\n",
       "      <td>420.0</td>\n",
       "    </tr>\n",
       "    <tr>\n",
       "      <th>2023-12-15</th>\n",
       "      <td>0.0</td>\n",
       "      <td>0.0</td>\n",
       "    </tr>\n",
       "    <tr>\n",
       "      <th>2023-12-16</th>\n",
       "      <td>0.0</td>\n",
       "      <td>0.0</td>\n",
       "    </tr>\n",
       "    <tr>\n",
       "      <th>2023-12-18</th>\n",
       "      <td>0.0</td>\n",
       "      <td>0.0</td>\n",
       "    </tr>\n",
       "    <tr>\n",
       "      <th>2023-12-19</th>\n",
       "      <td>0.0</td>\n",
       "      <td>0.0</td>\n",
       "    </tr>\n",
       "    <tr>\n",
       "      <th>2023-12-20</th>\n",
       "      <td>0.0</td>\n",
       "      <td>0.0</td>\n",
       "    </tr>\n",
       "  </tbody>\n",
       "</table>\n",
       "</div>"
      ],
      "text/plain": [
       "               实际米数   报废米数\n",
       "生产日期                      \n",
       "2023-12-01  50030.0  505.0\n",
       "2023-12-02  33705.0  545.0\n",
       "2023-12-03  20370.0  420.0\n",
       "2023-12-04  41340.0  390.0\n",
       "2023-12-05  58310.0   85.0\n",
       "2023-12-06  45095.0  245.0\n",
       "2023-12-07  59985.0   85.0\n",
       "2023-12-08  45350.0  220.0\n",
       "2023-12-09  29350.0  535.0\n",
       "2023-12-10  55680.0  250.0\n",
       "2023-12-11  32595.0  385.0\n",
       "2023-12-12  32565.0  405.0\n",
       "2023-12-13  40090.0  410.0\n",
       "2023-12-14  42075.0  420.0\n",
       "2023-12-15      0.0    0.0\n",
       "2023-12-16      0.0    0.0\n",
       "2023-12-18      0.0    0.0\n",
       "2023-12-19      0.0    0.0\n",
       "2023-12-20      0.0    0.0"
      ]
     },
     "execution_count": 22,
     "metadata": {},
     "output_type": "execute_result"
    }
   ],
   "source": [
    "customer.groupby('生产日期')[['实际米数','报废米数']].sum()"
   ]
  },
  {
   "cell_type": "code",
   "execution_count": 24,
   "id": "ea0da13d",
   "metadata": {},
   "outputs": [],
   "source": [
    "from pyecharts.charts import Line,Bar"
   ]
  },
  {
   "cell_type": "markdown",
   "id": "60bb2d60",
   "metadata": {},
   "source": [
    "查看是否已经更改columns name"
   ]
  },
  {
   "cell_type": "code",
   "execution_count": 28,
   "id": "63eaf79a",
   "metadata": {},
   "outputs": [],
   "source": [
    "def jhsmap(*args):\n",
    "    x_axis= customer.index.tolist()\n",
    "    y_axis= customer.groupby('生产日期')['实际米数'].sum().tolist()\n",
    "    y2_axis= customer.groupby('生产日期')['报废米数'].sum().tolist()\n",
    "    line = (Line()\n",
    "           .add_xaxis(x_axis)\n",
    "           .add_yaxis('',y_axis)\n",
    "           )\n",
    "    line.render_notebook()"
   ]
  },
  {
   "cell_type": "markdown",
   "id": "5e7a4295",
   "metadata": {},
   "source": [
    "修改计划时间的小数位长度 为2"
   ]
  },
  {
   "cell_type": "code",
   "execution_count": 29,
   "id": "17ebc8bf",
   "metadata": {},
   "outputs": [
    {
     "ename": "TypeError",
     "evalue": "Line.add_yaxis() missing 1 required positional argument: 'y_axis'",
     "output_type": "error",
     "traceback": [
      "\u001b[1;31m---------------------------------------------------------------------------\u001b[0m",
      "\u001b[1;31mTypeError\u001b[0m                                 Traceback (most recent call last)",
      "Cell \u001b[1;32mIn[29], line 1\u001b[0m\n\u001b[1;32m----> 1\u001b[0m \u001b[43mjhsmap\u001b[49m\u001b[43m(\u001b[49m\u001b[43m)\u001b[49m\n",
      "Cell \u001b[1;32mIn[28], line 7\u001b[0m, in \u001b[0;36mjhsmap\u001b[1;34m(*args)\u001b[0m\n\u001b[0;32m      3\u001b[0m y_axis\u001b[38;5;241m=\u001b[39m customer\u001b[38;5;241m.\u001b[39mgroupby(\u001b[38;5;124m'\u001b[39m\u001b[38;5;124m生产日期\u001b[39m\u001b[38;5;124m'\u001b[39m)[\u001b[38;5;124m'\u001b[39m\u001b[38;5;124m实际米数\u001b[39m\u001b[38;5;124m'\u001b[39m]\u001b[38;5;241m.\u001b[39msum()\u001b[38;5;241m.\u001b[39mtolist()\n\u001b[0;32m      4\u001b[0m y2_axis\u001b[38;5;241m=\u001b[39m customer\u001b[38;5;241m.\u001b[39mgroupby(\u001b[38;5;124m'\u001b[39m\u001b[38;5;124m生产日期\u001b[39m\u001b[38;5;124m'\u001b[39m)[\u001b[38;5;124m'\u001b[39m\u001b[38;5;124m报废米数\u001b[39m\u001b[38;5;124m'\u001b[39m]\u001b[38;5;241m.\u001b[39msum()\u001b[38;5;241m.\u001b[39mtolist()\n\u001b[0;32m      5\u001b[0m line \u001b[38;5;241m=\u001b[39m (\u001b[43mLine\u001b[49m\u001b[43m(\u001b[49m\u001b[43m)\u001b[49m\n\u001b[0;32m      6\u001b[0m \u001b[43m       \u001b[49m\u001b[38;5;241;43m.\u001b[39;49m\u001b[43madd_xaxis\u001b[49m\u001b[43m(\u001b[49m\u001b[43mx_axis\u001b[49m\u001b[43m)\u001b[49m\n\u001b[1;32m----> 7\u001b[0m \u001b[43m       \u001b[49m\u001b[38;5;241;43m.\u001b[39;49m\u001b[43madd_yaxis\u001b[49m\u001b[43m(\u001b[49m\u001b[43my_axis\u001b[49m\u001b[43m)\u001b[49m\n\u001b[0;32m      8\u001b[0m        )\n\u001b[0;32m      9\u001b[0m line\u001b[38;5;241m.\u001b[39mrender_notebook()\n",
      "\u001b[1;31mTypeError\u001b[0m: Line.add_yaxis() missing 1 required positional argument: 'y_axis'"
     ]
    }
   ],
   "source": [
    "jhsmap()"
   ]
  },
  {
   "cell_type": "markdown",
   "id": "3872fb24",
   "metadata": {},
   "source": [
    "设置查询日期为int"
   ]
  },
  {
   "cell_type": "code",
   "execution_count": 13,
   "id": "69ed0989",
   "metadata": {},
   "outputs": [
    {
     "name": "stdout",
     "output_type": "stream",
     "text": [
      "请输入要查询的日期12\n"
     ]
    }
   ],
   "source": [
    "day = int(input('请输入要查询的日期'))\n",
    "while not day <= 31 & day > 0:\n",
    "    day = int(input('请输入要查询的日期'))\n",
    "    "
   ]
  },
  {
   "cell_type": "code",
   "execution_count": 14,
   "id": "5ec2fe58",
   "metadata": {},
   "outputs": [],
   "source": [
    "def query_date(d):\n",
    "    plant_date= df.loc[(df.index.day == day) & (df['产能']!= '合计')]['计划时间'].sum().round(2)\n",
    "    result= df.loc[(df.index.day == day) & (df['产能']== '合计')].计划时间\n",
    "    return plant_date"
   ]
  },
  {
   "cell_type": "code",
   "execution_count": 15,
   "id": "2fe9ba29",
   "metadata": {},
   "outputs": [
    {
     "data": {
      "text/plain": [
       "20.49"
      ]
     },
     "execution_count": 15,
     "metadata": {},
     "output_type": "execute_result"
    }
   ],
   "source": [
    "query_date(day)"
   ]
  },
  {
   "cell_type": "code",
   "execution_count": 16,
   "id": "7614b12a",
   "metadata": {},
   "outputs": [],
   "source": [
    "model_lists= df.型号.unique()"
   ]
  },
  {
   "cell_type": "code",
   "execution_count": 18,
   "id": "8a9a2f14",
   "metadata": {},
   "outputs": [
    {
     "name": "stdout",
     "output_type": "stream",
     "text": [
      "请输入要查询的型号3t\n"
     ]
    }
   ],
   "source": [
    "model= input('请输入要查询的型号')\n"
   ]
  },
  {
   "cell_type": "code",
   "execution_count": 25,
   "id": "c3b28975",
   "metadata": {},
   "outputs": [],
   "source": [
    "df.to_excel('clearData1.xlsx',index=False)"
   ]
  },
  {
   "cell_type": "code",
   "execution_count": 20,
   "id": "9353b27a",
   "metadata": {},
   "outputs": [
    {
     "data": {
      "text/html": [
       "<div>\n",
       "<style scoped>\n",
       "    .dataframe tbody tr th:only-of-type {\n",
       "        vertical-align: middle;\n",
       "    }\n",
       "\n",
       "    .dataframe tbody tr th {\n",
       "        vertical-align: top;\n",
       "    }\n",
       "\n",
       "    .dataframe thead th {\n",
       "        text-align: right;\n",
       "    }\n",
       "</style>\n",
       "<table border=\"1\" class=\"dataframe\">\n",
       "  <thead>\n",
       "    <tr style=\"text-align: right;\">\n",
       "      <th></th>\n",
       "      <th>班次</th>\n",
       "      <th>重点关注</th>\n",
       "      <th>任务单号</th>\n",
       "      <th>客户</th>\n",
       "      <th>型号</th>\n",
       "      <th>产品名称</th>\n",
       "      <th>宽度</th>\n",
       "      <th>长度</th>\n",
       "      <th>涂布辊</th>\n",
       "      <th>产能</th>\n",
       "      <th>...</th>\n",
       "      <th>速比</th>\n",
       "      <th>气压</th>\n",
       "      <th>一放张力</th>\n",
       "      <th>放牵张力</th>\n",
       "      <th>出牵张力</th>\n",
       "      <th>收卷张力</th>\n",
       "      <th>收卷锥度</th>\n",
       "      <th>烘道张力</th>\n",
       "      <th>生产领班</th>\n",
       "      <th>备注</th>\n",
       "    </tr>\n",
       "    <tr>\n",
       "      <th>生产日期</th>\n",
       "      <th></th>\n",
       "      <th></th>\n",
       "      <th></th>\n",
       "      <th></th>\n",
       "      <th></th>\n",
       "      <th></th>\n",
       "      <th></th>\n",
       "      <th></th>\n",
       "      <th></th>\n",
       "      <th></th>\n",
       "      <th></th>\n",
       "      <th></th>\n",
       "      <th></th>\n",
       "      <th></th>\n",
       "      <th></th>\n",
       "      <th></th>\n",
       "      <th></th>\n",
       "      <th></th>\n",
       "      <th></th>\n",
       "      <th></th>\n",
       "      <th></th>\n",
       "    </tr>\n",
       "  </thead>\n",
       "  <tbody>\n",
       "  </tbody>\n",
       "</table>\n",
       "<p>0 rows × 80 columns</p>\n",
       "</div>"
      ],
      "text/plain": [
       "Empty DataFrame\n",
       "Columns: [班次, 重点关注, 任务单号, 客户, 型号, 产品名称, 宽度, 长度, 涂布辊, 产能, 计划时间, 卷数, 计划米数, 订单交期, 订单数, 物料信息, 实际米数, 报废米数, 异常报废, 报废率, 实际生产时间, 平方数, 实际平方, 原膜批号, 生产批号, 机速, 剥离剂, F02, 7475胶带粘性, 涂布量1, 涂布量2, 涂布量3, 急测, 首件离型力1, 首件离型力2, 首件离型力3, 尾件离型力1, 尾件离型力2, 尾件离型力3, 熟化12H离型力1, 熟化13H离型力2, 熟化14H离型力3, 防静电值1, 防静电值2, 防静电值3, 常温24H离型力1, 常温24H离型力2, 常温24H离型力3, 烘烤70℃离型力1, 烘烤70℃离型力2, 烘烤70℃离型力3, 残率1, 残率2, 残率3, 原膜检查, 电晕值52达因, 电晕处理, 烘箱温度1, 烘箱温度2, 烘箱温度3, 烘箱温度4, 烘箱温度5, 烘箱温度6, 是否掉硅, 涂布问题描述, 正/反放卷, 涂头温度, 涂头湿度%, QC签名, 装刀距离, 速比, 气压, 一放张力, 放牵张力, 出牵张力, 收卷张力, 收卷锥度, 烘道张力, 生产领班, 备注]\n",
       "Index: []\n",
       "\n",
       "[0 rows x 80 columns]"
      ]
     },
     "execution_count": 20,
     "metadata": {},
     "output_type": "execute_result"
    }
   ],
   "source": [
    "df.loc[df.型号 == model]"
   ]
  },
  {
   "cell_type": "code",
   "execution_count": null,
   "id": "585fdc37",
   "metadata": {},
   "outputs": [],
   "source": [
    "model_lists= df.型号.unique()"
   ]
  },
  {
   "cell_type": "code",
   "execution_count": null,
   "id": "d8d9a059",
   "metadata": {},
   "outputs": [],
   "source": [
    "model_list= df.型号.unique()[pd.notna(model_lists)].tolist()\n",
    "    "
   ]
  },
  {
   "cell_type": "code",
   "execution_count": null,
   "id": "6f9f44da",
   "metadata": {},
   "outputs": [],
   "source": [
    "model_list"
   ]
  },
  {
   "cell_type": "code",
   "execution_count": null,
   "id": "ea567594",
   "metadata": {},
   "outputs": [],
   "source": [
    "model= input('输入型号：').upper()"
   ]
  },
  {
   "cell_type": "code",
   "execution_count": null,
   "id": "c8223bca",
   "metadata": {},
   "outputs": [],
   "source": [
    "model.upper()"
   ]
  },
  {
   "cell_type": "code",
   "execution_count": null,
   "id": "7e900eda",
   "metadata": {},
   "outputs": [],
   "source": [
    "query_list = [item for item in model_list if model.upper() in item]"
   ]
  },
  {
   "cell_type": "code",
   "execution_count": null,
   "id": "76142768",
   "metadata": {},
   "outputs": [],
   "source": [
    "query_list"
   ]
  },
  {
   "cell_type": "code",
   "execution_count": null,
   "id": "4bb52a65",
   "metadata": {},
   "outputs": [],
   "source": [
    "array= [df.loc[df.型号== item] for item in query_list]\n",
    "    "
   ]
  },
  {
   "cell_type": "code",
   "execution_count": null,
   "id": "8196631f",
   "metadata": {
    "scrolled": true
   },
   "outputs": [],
   "source": [
    "df.columns"
   ]
  },
  {
   "cell_type": "code",
   "execution_count": null,
   "id": "55e09611",
   "metadata": {},
   "outputs": [],
   "source": [
    "df"
   ]
  },
  {
   "cell_type": "code",
   "execution_count": null,
   "id": "bd18444c",
   "metadata": {},
   "outputs": [],
   "source": []
  },
  {
   "cell_type": "code",
   "execution_count": null,
   "id": "5ec030e6",
   "metadata": {},
   "outputs": [],
   "source": []
  },
  {
   "cell_type": "code",
   "execution_count": null,
   "id": "e79aaa26",
   "metadata": {},
   "outputs": [],
   "source": []
  },
  {
   "cell_type": "code",
   "execution_count": null,
   "id": "20d36ca2",
   "metadata": {},
   "outputs": [],
   "source": []
  },
  {
   "cell_type": "code",
   "execution_count": null,
   "id": "2798bf5f",
   "metadata": {},
   "outputs": [],
   "source": [
    "\n"
   ]
  },
  {
   "cell_type": "code",
   "execution_count": null,
   "id": "86c9c4ee",
   "metadata": {},
   "outputs": [],
   "source": []
  },
  {
   "cell_type": "code",
   "execution_count": null,
   "id": "27fd8e69",
   "metadata": {},
   "outputs": [],
   "source": []
  },
  {
   "cell_type": "code",
   "execution_count": null,
   "id": "93a913c3",
   "metadata": {
    "scrolled": true
   },
   "outputs": [],
   "source": []
  },
  {
   "cell_type": "code",
   "execution_count": null,
   "id": "f99a947f",
   "metadata": {},
   "outputs": [],
   "source": []
  },
  {
   "cell_type": "code",
   "execution_count": null,
   "id": "638a2d88",
   "metadata": {},
   "outputs": [],
   "source": [
    "data['country']= data['color'].map({'Yellow':'china','Blue':'american','Red':'ruasia',})\n"
   ]
  },
  {
   "cell_type": "code",
   "execution_count": null,
   "id": "499b10cd",
   "metadata": {},
   "outputs": [],
   "source": [
    "dicc= {'Green':'Treenia'}"
   ]
  },
  {
   "cell_type": "code",
   "execution_count": null,
   "id": "636007f7",
   "metadata": {},
   "outputs": [],
   "source": [
    "data= data.replace({'color':dicc})"
   ]
  },
  {
   "cell_type": "code",
   "execution_count": null,
   "id": "ba708dfe",
   "metadata": {},
   "outputs": [],
   "source": [
    "data\n"
   ]
  },
  {
   "cell_type": "code",
   "execution_count": null,
   "id": "b2af6698",
   "metadata": {},
   "outputs": [],
   "source": [
    "data.to_html('new.html',encoding='utf-8')"
   ]
  },
  {
   "cell_type": "code",
   "execution_count": null,
   "id": "9c47033c",
   "metadata": {},
   "outputs": [],
   "source": []
  }
 ],
 "metadata": {
  "kernelspec": {
   "display_name": "Python 3 (ipykernel)",
   "language": "python",
   "name": "python3"
  },
  "language_info": {
   "codemirror_mode": {
    "name": "ipython",
    "version": 3
   },
   "file_extension": ".py",
   "mimetype": "text/x-python",
   "name": "python",
   "nbconvert_exporter": "python",
   "pygments_lexer": "ipython3",
   "version": "3.11.4"
  }
 },
 "nbformat": 4,
 "nbformat_minor": 5
}
